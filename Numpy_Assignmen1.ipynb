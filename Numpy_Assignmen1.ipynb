{
 "cells": [
  {
   "cell_type": "code",
   "execution_count": 2,
   "id": "88614f8a",
   "metadata": {},
   "outputs": [
    {
     "name": "stdout",
     "output_type": "stream",
     "text": [
      "[0 0 0 0 1 0 0 0 0 0]\n"
     ]
    }
   ],
   "source": [
    "#Q1\n",
    "import numpy as np\n",
    "b=np.array([int(x==4) for x in range(10)])\n",
    "print(b)"
   ]
  },
  {
   "cell_type": "code",
   "execution_count": 6,
   "id": "69f14f5b",
   "metadata": {},
   "outputs": [
    {
     "name": "stdout",
     "output_type": "stream",
     "text": [
      "[10 11 12 13 14 15 16 17 18 19 20 21 22 23 24 25 26 27 28 29 30 31 32 33\n",
      " 34 35 36 37 38 39 40 41 42 43 44 45 46 47 48 49]\n"
     ]
    }
   ],
   "source": [
    "#Q2\n",
    "import numpy as np\n",
    "c=np.arange(10,50)\n",
    "print(c)"
   ]
  },
  {
   "cell_type": "code",
   "execution_count": 12,
   "id": "32c1988b",
   "metadata": {},
   "outputs": [
    {
     "name": "stdout",
     "output_type": "stream",
     "text": [
      "[[3 8 7]\n",
      " [1 1 3]\n",
      " [5 7 7]]\n"
     ]
    }
   ],
   "source": [
    "#Q3\n",
    "import numpy as np\n",
    "a=np.random.randint(0,9,size=(3,3)) \n",
    "print(a)"
   ]
  },
  {
   "cell_type": "code",
   "execution_count": 14,
   "id": "a350b932",
   "metadata": {},
   "outputs": [
    {
     "name": "stdout",
     "output_type": "stream",
     "text": [
      "Input  array : \n",
      " [1 2 0 0 4 0]\n",
      "Indices of non zero elements :  (array([0, 1, 4], dtype=int64),)\n"
     ]
    }
   ],
   "source": [
    "#Q4\n",
    "import numpy as np\n",
    "arr = np.array([1,2,0,0,4,0]) \n",
    "print (\"Input  array : \\n\", arr)   \n",
    "arr_nonzero = np.nonzero(arr)\n",
    "print (\"Indices of non zero elements : \", arr_nonzero) "
   ]
  },
  {
   "cell_type": "code",
   "execution_count": 19,
   "id": "e8efef9e",
   "metadata": {},
   "outputs": [
    {
     "name": "stdout",
     "output_type": "stream",
     "text": [
      "[[27 33 29 46 28 18 92 21 37 14]\n",
      " [60  1 83  1 91 80 14 44 57 96]\n",
      " [21 96 91 69  1 49 27 78 24 42]\n",
      " [30 92  8  6  2 84 61 55 45 77]\n",
      " [19 76 98 36 14 18 79 40 85  0]\n",
      " [78 83 15 19 31 22 15 37 21 14]\n",
      " [73 71 29 29 87 23 59 52 56 50]\n",
      " [94 78 92 52  7 83 16 73 31 66]\n",
      " [10 48 81 29 41 60 96 40 13 37]\n",
      " [39 34 73 74 92 96 96 10 36 47]]\n",
      "min value is : 0\n",
      "max value is : 98\n"
     ]
    }
   ],
   "source": [
    "#Q5\n",
    "import numpy as np\n",
    "p=np.random.randint(0,100,size=(10,10)) \n",
    "print(p)\n",
    "q=p.flatten()\n",
    "min=q.min()\n",
    "max=q.max()\n",
    "print(\"min value is :\", min)\n",
    "print(\"max value is :\", max)\n"
   ]
  },
  {
   "cell_type": "code",
   "execution_count": 26,
   "id": "524da549",
   "metadata": {},
   "outputs": [
    {
     "name": "stdout",
     "output_type": "stream",
     "text": [
      "[0.51680385 0.53470625 0.27530505 0.3823631  0.15476006 0.38585581\n",
      " 0.50983744 0.75207129 0.56957075 0.42121627 0.05515212 0.47720601\n",
      " 0.66209124 0.49312956 0.00523519 0.54440405 0.69356338 0.94760261\n",
      " 0.5624377  0.5138258  0.01521019 0.79139985 0.22355833 0.70584056\n",
      " 0.18856219 0.25693702 0.40493899 0.90907023 0.52534252 0.41301262]\n",
      "30\n",
      "0.46303366819142533\n"
     ]
    }
   ],
   "source": [
    "#Q6\n",
    "import numpy as np\n",
    "r = np.random.rand(30)\n",
    "print(r)\n",
    "print(r.size)\n",
    "m = r.mean()\n",
    "print (m)"
   ]
  },
  {
   "cell_type": "code",
   "execution_count": null,
   "id": "20660c0e",
   "metadata": {},
   "outputs": [],
   "source": []
  }
 ],
 "metadata": {
  "kernelspec": {
   "display_name": "Python 3 (ipykernel)",
   "language": "python",
   "name": "python3"
  },
  "language_info": {
   "codemirror_mode": {
    "name": "ipython",
    "version": 3
   },
   "file_extension": ".py",
   "mimetype": "text/x-python",
   "name": "python",
   "nbconvert_exporter": "python",
   "pygments_lexer": "ipython3",
   "version": "3.10.2"
  }
 },
 "nbformat": 4,
 "nbformat_minor": 5
}
